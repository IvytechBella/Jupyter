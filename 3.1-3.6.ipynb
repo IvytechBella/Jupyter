{
 "cells": [
  {
   "cell_type": "code",
   "execution_count": 40,
   "id": "7af63293-23f5-42ac-b5c5-816988bde4af",
   "metadata": {},
   "outputs": [
    {
     "data": {
      "text/plain": [
       "3600"
      ]
     },
     "execution_count": 40,
     "metadata": {},
     "output_type": "execute_result"
    }
   ],
   "source": [
    "# 3.1 \n",
    "seconds_per_minute = 60\n",
    "minutes_per_hour = 60\n",
    "\n",
    "seconds_per_hour = seconds_per_minute * minutes_per_hour\n",
    "seconds_per_hour\n"
   ]
  },
  {
   "cell_type": "code",
   "execution_count": 42,
   "id": "f3c13607-0d28-4055-8a82-fda2dd8c169b",
   "metadata": {},
   "outputs": [
    {
     "data": {
      "text/plain": [
       "3600"
      ]
     },
     "execution_count": 42,
     "metadata": {},
     "output_type": "execute_result"
    }
   ],
   "source": [
    "# 3.2\n",
    "seconds_per_minute = 60\n",
    "minutes_per_hour = 60\n",
    "seconds_per_hour = seconds_per_minute * minutes_per_hour\n",
    "seconds_per_hour"
   ]
  },
  {
   "cell_type": "code",
   "execution_count": 44,
   "id": "d380a77a-ee5c-4148-9bd5-1c1e3ee1b2cd",
   "metadata": {},
   "outputs": [
    {
     "data": {
      "text/plain": [
       "86400"
      ]
     },
     "execution_count": 44,
     "metadata": {},
     "output_type": "execute_result"
    }
   ],
   "source": [
    "# 3.3\n",
    "seconds_per_hour = 3600\n",
    "hours_per_day = 24\n",
    "seconds_per_day = seconds_per_hour * hours_per_day\n",
    "seconds_per_day"
   ]
  },
  {
   "cell_type": "code",
   "execution_count": 46,
   "id": "82c9f183-e84a-427b-af82-657c93f50e08",
   "metadata": {},
   "outputs": [],
   "source": [
    "# 3.4\n",
    "seconds_per_hour = 3600  \n",
    "hours_per_day = 24       \n",
    "seconds_per_day = seconds_per_hour * hours_per_day "
   ]
  },
  {
   "cell_type": "code",
   "execution_count": 48,
   "id": "4fa25585-6f67-4a09-b4d6-a76c2191d532",
   "metadata": {},
   "outputs": [],
   "source": [
    "\n",
    "# 3.5\n",
    "seconds_per_day = 86400\n",
    "seconds_per_hour = 3600\n"
   ]
  },
  {
   "cell_type": "code",
   "execution_count": 50,
   "id": "40483494-51ea-4c00-9023-2f9ed0d79a55",
   "metadata": {},
   "outputs": [],
   "source": [
    "# 3.6\n",
    "seconds_per_day = 86400\n",
    "seconds_per_hour = 3600\n",
    "\n",
    "result_float = seconds_per_day / seconds_per_hour\n",
    "\n",
    "result_int = seconds_per_day // seconds_per_hour"
   ]
  }
 ],
 "metadata": {
  "kernelspec": {
   "display_name": "Python 3 (ipykernel)",
   "language": "python",
   "name": "python3"
  },
  "language_info": {
   "codemirror_mode": {
    "name": "ipython",
    "version": 3
   },
   "file_extension": ".py",
   "mimetype": "text/x-python",
   "name": "python",
   "nbconvert_exporter": "python",
   "pygments_lexer": "ipython3",
   "version": "3.12.7"
  }
 },
 "nbformat": 4,
 "nbformat_minor": 5
}
